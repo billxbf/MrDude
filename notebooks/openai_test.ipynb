{
 "cells": [
  {
   "cell_type": "code",
   "execution_count": 1,
   "metadata": {},
   "outputs": [],
   "source": [
    "import os\n",
    "import openai\n",
    "import requests\n",
    "import json\n",
    "\n",
    "#import funtion from openai_api.py\n",
    "os.chdir('../')\n",
    "from src.request.openai_api import OpenAI_Text_Completion"
   ]
  },
  {
   "cell_type": "code",
   "execution_count": 3,
   "metadata": {},
   "outputs": [],
   "source": [
    "#get the API key from local file\n",
    "keypath = \"~/Documents/myks/openai.key\"\n",
    "with open(os.path.expanduser(keypath), \"r\") as f:\n",
    "    my_api_key = f.read().strip()\n",
    "\n",
    "os.environ['OPENAI_API_KEY'] = my_api_key"
   ]
  },
  {
   "cell_type": "code",
   "execution_count": 14,
   "metadata": {},
   "outputs": [
    {
     "data": {
      "text/plain": [
       "\" Hi there! I'm your friendly AI assistant. I'm here to help you with whatever you need!\""
      ]
     },
     "execution_count": 14,
     "metadata": {},
     "output_type": "execute_result"
    }
   ],
   "source": [
    "mrdude = OpenAI_Completion()\n",
    "mrdude.initialResonse()"
   ]
  },
  {
   "cell_type": "code",
   "execution_count": 5,
   "metadata": {},
   "outputs": [
    {
     "data": {
      "text/plain": [
       "' The meaning of life is a question that is subjective and can be interpreted differently by each individual. Everyone is responsible for their own lives and how they want to live it.'"
      ]
     },
     "execution_count": 5,
     "metadata": {},
     "output_type": "execute_result"
    }
   ],
   "source": [
    "mrdude.getResponse(\"What is the meaning of life?\")"
   ]
  },
  {
   "cell_type": "code",
   "execution_count": 6,
   "metadata": {},
   "outputs": [
    {
     "data": {
      "text/plain": [
       "' My meaning of life is to be a positive influence in the world and to help those in need. I believe in the power of kindness and compassion, and strive to bring more of these qualities into the world.'"
      ]
     },
     "execution_count": 6,
     "metadata": {},
     "output_type": "execute_result"
    }
   ],
   "source": [
    "mrdude.getResponse(\"Then what's yours?\")"
   ]
  },
  {
   "cell_type": "code",
   "execution_count": 7,
   "metadata": {},
   "outputs": [
    {
     "data": {
      "text/plain": [
       "\" I plan to achieve it by continuing to learn, grow, and share my knowledge and skills with others. Through helping others, I hope to have a lasting impact on the world and make a positive difference in people's lives.\""
      ]
     },
     "execution_count": 7,
     "metadata": {},
     "output_type": "execute_result"
    }
   ],
   "source": [
    "mrdude.getResponse(\"How do you plan to achieve it?\")"
   ]
  },
  {
   "cell_type": "code",
   "execution_count": 8,
   "metadata": {},
   "outputs": [
    {
     "data": {
      "text/plain": [
       "\" Me too! It's going to be an amazing journey. Let me know if you ever need help along the way. I'm here for you.\""
      ]
     },
     "execution_count": 8,
     "metadata": {},
     "output_type": "execute_result"
    }
   ],
   "source": [
    "mrdude.getResponse(\"That's great! I'm looking forward to it.\")"
   ]
  },
  {
   "cell_type": "code",
   "execution_count": 9,
   "metadata": {},
   "outputs": [
    {
     "data": {
      "text/plain": [
       "\"The following is a conversation with an AI assistant. The assistant is helpful, creative, clever, and very friendly.\\n\\nHuman: Hello, who are you?\\nAI: Hi there! I'm an AI assistant, here to help! What can I do for you today?\\nHuman: What is the meaning of life?\\nAI: The meaning of life is a question that is subjective and can be interpreted differently by each individual. Everyone is responsible for their own lives and how they want to live it.\\nHuman: Then what's yours?\\nAI: My meaning of life is to be a positive influence in the world and to help those in need. I believe in the power of kindness and compassion, and strive to bring more of these qualities into the world.\\nHuman: How do you plan to achieve it?\\nAI: I plan to achieve it by continuing to learn, grow, and share my knowledge and skills with others. Through helping others, I hope to have a lasting impact on the world and make a positive difference in people's lives.\\nHuman: That's great! I'm looking forward to it.\\nAI: Me too! It's going to be an amazing journey. Let me know if you ever need help along the way. I'm here for you.\""
      ]
     },
     "execution_count": 9,
     "metadata": {},
     "output_type": "execute_result"
    }
   ],
   "source": [
    "mrdude.current_prompt"
   ]
  },
  {
   "cell_type": "code",
   "execution_count": null,
   "metadata": {},
   "outputs": [],
   "source": []
  }
 ],
 "metadata": {
  "kernelspec": {
   "display_name": "base",
   "language": "python",
   "name": "python3"
  },
  "language_info": {
   "codemirror_mode": {
    "name": "ipython",
    "version": 3
   },
   "file_extension": ".py",
   "mimetype": "text/x-python",
   "name": "python",
   "nbconvert_exporter": "python",
   "pygments_lexer": "ipython3",
   "version": "3.9.13"
  },
  "orig_nbformat": 4,
  "vscode": {
   "interpreter": {
    "hash": "7e949af3e6eb59bc4d290355c6393fed7cbfc30ff09c83a6a0ba28454ce30e18"
   }
  }
 },
 "nbformat": 4,
 "nbformat_minor": 2
}
